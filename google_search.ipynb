{
 "cells": [
  {
   "cell_type": "code",
   "execution_count": null,
   "id": "b6bb9158-1836-4803-8e91-2fa788d1603b",
   "metadata": {},
   "outputs": [],
   "source": [
    "GOOGLE_API_KEY = \"\"\n",
    "GOOGLE_CSE_ID = \"\""
   ]
  },
  {
   "cell_type": "code",
   "execution_count": null,
   "id": "2257061b-a6a8-4508-8faa-146a7cf65985",
   "metadata": {},
   "outputs": [],
   "source": [
    "import requests\n",
    "\n",
    "def google_search(query, GOOGLE_API_KEY, GOOGLE_CSE_ID, num_results=50):\n",
    "    urls = []\n",
    "    start_index = 1\n",
    "    while start_index <= num_results:\n",
    "        url = 'https://www.googleapis.com/customsearch/v1'\n",
    "        params = {'key': GOOGLE_API_KEY, 'cx': GOOGLE_CSE_ID, 'q': query,'start': start_index}\n",
    "        response = requests.get(url, params=params)\n",
    "        results = response.json()\n",
    "        \n",
    "        search_items = results.get('items', [])\n",
    "        for item in search_items:\n",
    "            urls.append(item.get('link'))\n",
    "        \n",
    "        start_index += len(search_items)  \n",
    "\n",
    "        # Break if the results are less than the typical 10 to prevent unnecessary requests\n",
    "        if len(search_items) < 10:\n",
    "            break\n",
    "\n",
    "    return urls"
   ]
  }
 ],
 "metadata": {
  "kernelspec": {
   "display_name": "Python 3 (ipykernel)",
   "language": "python",
   "name": "python3"
  },
  "language_info": {
   "codemirror_mode": {
    "name": "ipython",
    "version": 3
   },
   "file_extension": ".py",
   "mimetype": "text/x-python",
   "name": "python",
   "nbconvert_exporter": "python",
   "pygments_lexer": "ipython3",
   "version": "3.12.3"
  }
 },
 "nbformat": 4,
 "nbformat_minor": 5
}
